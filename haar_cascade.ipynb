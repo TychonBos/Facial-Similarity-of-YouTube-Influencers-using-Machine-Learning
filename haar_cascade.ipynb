{
 "cells": [
  {
   "cell_type": "markdown",
   "metadata": {},
   "source": [
    "Imports\n"
   ]
  },
  {
   "cell_type": "code",
   "execution_count": 1,
   "metadata": {},
   "outputs": [],
   "source": [
    "import numpy as np\n",
    "import cv2\n",
    "import glob\n",
    "import os\n",
    "import os, random\n",
    "import shutil\n",
    "from tqdm import tqdm\n",
    "import glob\n",
    "import matplotlib.pyplot as plt\n",
    "import matplotlib.image as mpimg\n",
    "from os import listdir\n",
    "from os.path import join, isfile\n",
    "%matplotlib inline"
   ]
  },
  {
   "cell_type": "markdown",
   "metadata": {},
   "source": [
    "Function that picks random images from a source directory and copies them to destination directory "
   ]
  },
  {
   "cell_type": "code",
   "execution_count": 3,
   "metadata": {},
   "outputs": [],
   "source": [
    "def randomImagePicker(sourceList, destinationList, numberOfImages):\n",
    "\n",
    "    for src, dst in tqdm(zip(range(len(sourceList)), range(len(destinationList)))):\n",
    "        src_dir = sourceList[src]\n",
    "        dst_dir = destinationList[dst]\n",
    "        #print('src: ', src_dir)\n",
    "        #print('dst: ', dst_dir)\n",
    "        file_list = os.listdir(src_dir)\n",
    "        #print('file list: ', file_list)\n",
    "        #print(len(file_list))\n",
    "        random_list = random.sample(file_list, numberOfImages)\n",
    "        #print('random list: ', random_list)\n",
    "\n",
    "        for i in range(len(random_list)):\n",
    "            current_file = random_list[i]\n",
    "            #print('src: ',src_dir + \"/\" + current_file)\n",
    "            #print('dst ',dst_dir  + \"/\" + current_file)\n",
    "            shutil.copy(src_dir + \"/\" + current_file, dst_dir + \"/\" + current_file)\n"
   ]
  },
  {
   "cell_type": "markdown",
   "metadata": {},
   "source": [
    "Convert images to grayscale"
   ]
  },
  {
   "cell_type": "code",
   "execution_count": 5,
   "metadata": {},
   "outputs": [],
   "source": [
    "def to_gray(pathlist):\n",
    "    for path in pathlist:\n",
    "        files = [f for f in listdir(path) if isfile(join(path,f))] \n",
    "        #print(path, files)\n",
    "\n",
    "        for image in files:\n",
    "            img = os.path.join(path, image)\n",
    "            img = img.replace('\\\\','/')\n",
    "            #print(img)\n",
    "            try:\n",
    "                current_img_gray = cv2.imread(img)\n",
    "                gray = cv2.cvtColor(current_img_gray, cv2.COLOR_BGR2GRAY)\n",
    "                cv2.imwrite(img, gray)\n",
    "            except:\n",
    "                print (\"{} is not converted\".format(img))"
   ]
  },
  {
   "cell_type": "markdown",
   "metadata": {},
   "source": [
    "Generate description file"
   ]
  },
  {
   "cell_type": "code",
   "execution_count": 22,
   "metadata": {},
   "outputs": [],
   "source": [
    "# reads all the files in the /negative folder and generates neg.txt from them.\n",
    "def generate_negative_description_file(filepath):\n",
    "    # open the output file for writing. will overwrite all existing data in there\n",
    "    file = filepath + '/neg.txt'\n",
    "    print(file)\n",
    "    with open(file, 'w') as f:\n",
    "        # loop over all the filenames\n",
    "        for filename in os.listdir(filepath):\n",
    "            f.write(filepath + '/' + filename + '\\n')"
   ]
  },
  {
   "cell_type": "markdown",
   "metadata": {},
   "source": [
    "Results function that takes images from the positive directory, draws rectangels around the faces and saves the images with the rectangels"
   ]
  },
  {
   "cell_type": "code",
   "execution_count": 6,
   "metadata": {},
   "outputs": [],
   "source": [
    "def results(positive_directory, cascade, save):\n",
    "    for filepath in glob.iglob(positive_directory):\n",
    "        filepath = filepath.replace('\\\\','/')\n",
    "        #print(filepath)\n",
    "        filename = filepath.split('/')[-1]\n",
    "        #print(filename)\n",
    "        img = cv2.imread(filepath)\n",
    "        model = cv2.CascadeClassifier(cascade)\n",
    "        faces=model.detectMultiScale(img, scaleFactor=1.4, minNeighbors=3, minSize= [30,30])\n",
    "        for x, y, w, h in faces:\n",
    "            img=cv2.rectangle(img,(x,y),(x+w,y+h),(0,255,0),3)\n",
    "            resized=cv2.resize(img,(int(img.shape[1]), int(img.shape[0]))) \n",
    "            cv2.imshow(\"Deteced-face\",resized)\n",
    "            savepath = save + filename\n",
    "            cv2.imwrite(savepath, img)\n",
    "            cv2.waitKey(1)\n",
    "            cv2.destroyAllWindows()\n"
   ]
  },
  {
   "cell_type": "markdown",
   "metadata": {},
   "source": [
    "Plot results"
   ]
  },
  {
   "cell_type": "code",
   "execution_count": 11,
   "metadata": {},
   "outputs": [],
   "source": [
    "def plot_results(result_path, positive_class):\n",
    "    images = []\n",
    "    for img_path in glob.glob(result_path):\n",
    "        images.append(mpimg.imread(img_path))\n",
    "\n",
    "    title_name = result_path.split('/')[-2]\n",
    "    columns = 5\n",
    "    count = 1\n",
    "    \n",
    "    plt.figure(figsize=(24,24))\n",
    "\n",
    "    for i, image in enumerate(images[:35]):\n",
    "        plt.subplot( int(len(images[:35]) / columns + 1), columns, i+1)\n",
    "        plt.imshow(image)\n",
    "\n",
    "        plt.axis('off')\n",
    "        plt.title('Image: ' + str(count))\n",
    "        plt.tight_layout()\n",
    "        plt.savefig('save/images/here' + title_name + '.png')  \n",
    "        count += 1"
   ]
  },
  {
   "cell_type": "markdown",
   "metadata": {},
   "source": [
    "Compute IoU score"
   ]
  },
  {
   "cell_type": "code",
   "execution_count": 4,
   "metadata": {},
   "outputs": [],
   "source": [
    "from collections import namedtuple\n",
    "import numpy as np\n",
    "import cv2\n",
    "# define the `Detection` object\n",
    "# image_path : The path to our input image that resides on disk\n",
    "# gt : The ground-truth bounding box\n",
    "# pred : The predicted bounding box from our model\n",
    "Detection = namedtuple(\"Detection\", [\"image_path\", \"gt\", \"pred\"])\n",
    " \n",
    "def bb_intersection_over_union(boxA, boxB):\n",
    "\t# determine the (x, y)-coordinates of the intersection rectangle\n",
    "\txA = max(boxA[0], boxB[0])\n",
    "\tyA = max(boxA[1], boxB[1])\n",
    "\txB = min(boxA[2], boxB[2])\n",
    "\tyB = min(boxA[3], boxB[3])\n",
    "\n",
    "\t# compute the area of intersection rectangle\n",
    "\tinterArea = abs(max((xB - xA, 0)) * max((yB - yA), 0))\n",
    "\tif interArea == 0:\n",
    "\t\treturn 0\n",
    "\t# compute the area of both the prediction and ground-truth\n",
    "\t# rectangles\n",
    "\tboxAArea = abs((boxA[2] - boxA[0]) * (boxA[3] - boxA[1]))\n",
    "\tboxBArea = abs((boxB[2] - boxB[0]) * (boxB[3] - boxB[1]))\n",
    "\n",
    "\t# compute the intersection over union by taking the intersection\n",
    "\t# area and dividing it by the sum of prediction + ground-truth\n",
    "\t# areas - the interesection area\n",
    "\tiou = interArea / float(boxAArea + boxBArea - interArea)\n",
    "\n",
    "\t# return the intersection over union value\n",
    "\treturn iou"
   ]
  }
 ],
 "metadata": {
  "interpreter": {
   "hash": "be9a425e815a9bb61ca1e789a1b9d651a08a3186b1e4a393b148ea985015b445"
  },
  "kernelspec": {
   "display_name": "Python 3.7.6 ('base')",
   "language": "python",
   "name": "python3"
  },
  "language_info": {
   "codemirror_mode": {
    "name": "ipython",
    "version": 3
   },
   "file_extension": ".py",
   "mimetype": "text/x-python",
   "name": "python",
   "nbconvert_exporter": "python",
   "pygments_lexer": "ipython3",
   "version": "3.7.6"
  }
 },
 "nbformat": 4,
 "nbformat_minor": 4
}
