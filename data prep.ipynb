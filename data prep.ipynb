{
 "cells": [
  {
   "cell_type": "markdown",
   "id": "4a4705f2",
   "metadata": {},
   "source": [
    "Imports"
   ]
  },
  {
   "cell_type": "code",
   "execution_count": 1,
   "id": "63da1ee7",
   "metadata": {},
   "outputs": [],
   "source": [
    "import os\n",
    "import cv2\n",
    "import random\n",
    "from tqdm import tqdm\n",
    "import glob\n",
    "from pathlib import Path\n",
    "import shutil\n",
    "from os import listdir\n",
    "from os.path import join, isfile\n",
    "from deepface import DeepFace\n",
    "import numpy as np\n",
    "from PIL import Image "
   ]
  },
  {
   "cell_type": "markdown",
   "id": "930913ed",
   "metadata": {},
   "source": [
    "Influencer names"
   ]
  },
  {
   "cell_type": "code",
   "execution_count": 3,
   "id": "79ce07b9",
   "metadata": {},
   "outputs": [],
   "source": [
    "influencers = ['Airrack', 'BellaPoarch', 'Larry', 'LexiHensler', 'LoganPaul', 'MarkRober', 'MrBeast', 'PiersonWodzynski', 'Preston', 'Quackity', 'RosannaPansino', 'RyanTrahan', 'SoffieDossi', 'ZachKing', 'Zhc' ]"
   ]
  },
  {
   "cell_type": "markdown",
   "id": "a1108de5",
   "metadata": {},
   "source": [
    "Renaming folders"
   ]
  },
  {
   "cell_type": "code",
   "execution_count": null,
   "id": "df688ebe",
   "metadata": {},
   "outputs": [],
   "source": [
    "def rename(folder):\n",
    "\n",
    "    for count, filename in enumerate(os.listdir(folder)):\n",
    "        dst = f\"Image{str(count)}.jpg\"\n",
    "        src =f\"{folder}/{filename}\"  \n",
    "        dst =f\"{folder}/{dst}\"\n",
    "        \n",
    "        os.rename(src, dst)\n",
    "        "
   ]
  },
  {
   "cell_type": "markdown",
   "id": "99159678",
   "metadata": {},
   "source": [
    "List all subfolders in YouTubeFaces/frame_images_DB"
   ]
  },
  {
   "cell_type": "code",
   "execution_count": null,
   "id": "4a2c64a3",
   "metadata": {},
   "outputs": [],
   "source": [
    "subfolders = [ f.path for f in os.scandir(\"/YouTubeFaces/frame_images_DB/\") if f.is_dir() ]\n",
    "\n",
    "all_names = []\n",
    "for name in subfolders:\n",
    "    name = name.split(\"/\")\n",
    "    name = name[-1]\n",
    "    all_names.append(name)"
   ]
  },
  {
   "cell_type": "markdown",
   "id": "4269533c",
   "metadata": {},
   "source": [
    "List all subfolders in YouTubeFaces/frame_images_DB with number of sub directories"
   ]
  },
  {
   "cell_type": "code",
   "execution_count": 5,
   "id": "50961ad5",
   "metadata": {},
   "outputs": [],
   "source": [
    "dcount = []\n",
    "\n",
    "for i in range(len(subfolders)):\n",
    "    num_of_sub_dirs = 0\n",
    "    current_folder = subfolders[i]\n",
    "    path = Path(current_folder)\n",
    "    for f in path.glob('*'): \n",
    "        if f.is_dir():\n",
    "            num_of_sub_dirs += 1\n",
    "        \n",
    "    dcount.append(str(path) + ' ' + str(num_of_sub_dirs))\n"
   ]
  },
  {
   "cell_type": "code",
   "execution_count": 49,
   "id": "d5d831d7",
   "metadata": {},
   "outputs": [
    {
     "name": "stdout",
     "output_type": "stream",
     "text": [
      "['Aaron_Eckhart', 'Aaron_Sorkin', 'Aaron_Tippin', 'Abba_Eban', 'Abdel_Aziz_Al-Hakim']\n",
      "1004\n"
     ]
    }
   ],
   "source": [
    "allpaths = []\n",
    "with open('allpaths.txt', 'r') as f:\n",
    "    for line in f:\n",
    "        line = line.strip()\n",
    "        allpaths.append(line)\n",
    "\n",
    "all_names_2ormore = []\n",
    "for name in allpaths:\n",
    "    name = name.split('/')\n",
    "    name = name[-1]\n",
    "    all_names_2ormore.append(name)\n",
    "print(all_names_2ormore[:5])\n",
    "print(len(all_names_2ormore))\n",
    "\n"
   ]
  },
  {
   "cell_type": "markdown",
   "id": "99f24f43",
   "metadata": {},
   "source": [
    "All persons that appear in 1 video"
   ]
  },
  {
   "cell_type": "code",
   "execution_count": null,
   "id": "d0286790",
   "metadata": {},
   "outputs": [],
   "source": [
    "all_names #1595 names\n",
    "all_names_2ormore #1004 names\n",
    "\n",
    "all_names_1_dir = []\n",
    "path = '/YouTubeFaces/frame_images_DB/'\n",
    "for name in all_names:\n",
    "    if name not in all_names_2ormore:\n",
    "        name = path + name\n",
    "        all_names_1_dir.append(name)\n",
    "\n",
    "print(all_names_1_dir[:5])\n",
    "print(len(all_names_1_dir))\n",
    "\n",
    "all_names_1_dirdst = []\n",
    "pathdst = 'Youtube/1video/'\n",
    "\n",
    "for name in all_names_1_dir:\n",
    "    name = name.split('/')\n",
    "    name = name[-1]\n",
    "    name = pathdst + name\n",
    "    all_names_1_dirdst.append(name)\n",
    "\n",
    "print(all_names_1_dirdst[:5])"
   ]
  },
  {
   "cell_type": "markdown",
   "id": "aab52d9f",
   "metadata": {},
   "source": [
    "Create directories"
   ]
  },
  {
   "cell_type": "code",
   "execution_count": 58,
   "id": "04711ccd",
   "metadata": {},
   "outputs": [],
   "source": [
    "# Create directory\n",
    "\n",
    "def createDirectory(dirnamesList):\n",
    "    for i in range(len(dirnamesList)):\n",
    "        dirName = dirnamesList[i]\n",
    "        try:\n",
    "        # Create target Directory\n",
    "            os.mkdir(dirName)\n",
    "            print(\"Directory \" , dirName ,  \" Created \") \n",
    "        except FileExistsError:\n",
    "            print(\"Directory \" , dirName ,  \" already exists\")"
   ]
  },
  {
   "cell_type": "markdown",
   "id": "3dc1c0c7",
   "metadata": {},
   "source": [
    "Copy from source to destination"
   ]
  },
  {
   "cell_type": "code",
   "execution_count": null,
   "id": "01a677a1",
   "metadata": {},
   "outputs": [],
   "source": [
    "# src all_names_1_dir, dst all_names_1_dirdst\n",
    "for i, j in zip(range(len(all_names_1_dir)), range(len(all_names_1_dirdst))):\n",
    "    current_src = allpaths[i] \n",
    "    print('Current src: ', current_src)\n",
    "    current_dst = all_names_1_dirdst[j]\n",
    "    print('Current dst: ', current_dst)\n",
    "    for root, dirs, files in os.walk(current_src):  #starting directory\n",
    "        for file in files:\n",
    "            path_file = os.path.join(root, file)\n",
    "            shutil.copy2(path_file, current_dst) #destination dir \n"
   ]
  },
  {
   "cell_type": "markdown",
   "id": "1042c7b6",
   "metadata": {},
   "source": [
    "Select random images"
   ]
  },
  {
   "cell_type": "code",
   "execution_count": 1,
   "id": "c6994f70",
   "metadata": {},
   "outputs": [],
   "source": [
    "def randomImagePicker(sourceList, destinationList, numberOfImages):\n",
    "\n",
    "    for src, dst in tqdm(zip(range(len(sourceList)), range(len(destinationList)))):\n",
    "        src_dir = sourceList[src]\n",
    "        dst_dir = destinationList[dst]\n",
    "        #print('src: ', src_dir)\n",
    "        #print('dst: ', dst_dir)\n",
    "        file_list = os.listdir(src_dir)\n",
    "        #print('file list: ', file_list)\n",
    "        #print(len(file_list))\n",
    "        random_list = random.sample(file_list, numberOfImages)\n",
    "        #print('random list: ', random_list)\n",
    "\n",
    "        for i in range(len(random_list)):\n",
    "            current_file = random_list[i]\n",
    "            #print('src: ',src_dir + \"/\" + current_file)\n",
    "            #print('dst ',dst_dir  + \"/\" + current_file)\n",
    "            shutil.copy(src_dir + \"/\" + current_file, dst_dir + \"/\" + current_file)\n"
   ]
  },
  {
   "cell_type": "markdown",
   "id": "d3eaff3d",
   "metadata": {},
   "source": [
    "Resize images"
   ]
  },
  {
   "cell_type": "code",
   "execution_count": null,
   "id": "53ab217f",
   "metadata": {},
   "outputs": [],
   "source": [
    "def resize(dirlist, width, height):\n",
    "    for i in range(len(dirlist)):\n",
    "        current_dir = dirlist[i]\n",
    "        #print('current_dir', current_dir)\n",
    "\n",
    "        images = Path(current_dir).glob(\"*.jpg\")\n",
    "        image_strings = [str(p) for p in images]\n",
    "\n",
    "        for image in image_strings:\n",
    "            image = image.replace('\\\\','/')\n",
    "            #print('current img before reading', image)\n",
    "            img = cv2.imread(image, cv2.IMREAD_UNCHANGED) # read image\n",
    "            #print('image in imread function', img)\n",
    "            resize_width = width\n",
    "            resize_height = height\n",
    "            dim = (resize_height, resize_width)\n",
    "\n",
    "            resized = cv2.resize(img, dim, interpolation = cv2.INTER_AREA)\n",
    "\n",
    "            cv2.imwrite(image, resized)"
   ]
  },
  {
   "cell_type": "markdown",
   "id": "40e3a7c1",
   "metadata": {},
   "source": [
    "Convert to grayscale"
   ]
  },
  {
   "cell_type": "code",
   "execution_count": null,
   "id": "e7cbdff6",
   "metadata": {},
   "outputs": [],
   "source": [
    "def to_gray(pathlist):\n",
    "    for path in pathlist:\n",
    "        files = [f for f in listdir(path) if isfile(join(path,f))] \n",
    "        #print(path, files)\n",
    "\n",
    "        for image in files:\n",
    "            img = os.path.join(path, image)\n",
    "            img = img.replace('\\\\','/')\n",
    "            #print(img)\n",
    "            try:\n",
    "                current_img_gray = cv2.imread(img)\n",
    "                gray = cv2.cvtColor(current_img_gray, cv2.COLOR_BGR2GRAY)\n",
    "                cv2.imwrite(img, gray)\n",
    "            except:\n",
    "                print (\"{} is not converted\".format(img))\n"
   ]
  },
  {
   "cell_type": "markdown",
   "id": "c5dbca20",
   "metadata": {},
   "source": [
    "Haar facedetection\n"
   ]
  },
  {
   "cell_type": "code",
   "execution_count": 42,
   "id": "5a21f96e",
   "metadata": {},
   "outputs": [],
   "source": [
    "#take from dirnames30, dirnames50 and dirnames70\n",
    "#save in cropped30, cropped50, cropped70\n",
    "\n",
    "face_cascade = cv2.CascadeClassifier(cv2.data.haarcascades + 'haarcascade_frontalface_default.xml')\n",
    "def haar_facedetection(srcpath, dstpath):\n",
    "    #take paths from srcpath, detect face and save face to dstpath\n",
    "    count = 0\n",
    "    for src, dst in zip(srcpath, dstpath):\n",
    "        currentsrc = src\n",
    "        currentdst = dst\n",
    "        for filepath in glob.iglob(currentsrc + '/*.jpg'):\n",
    "            filepath = filepath.replace('\\\\','/')\n",
    "            filename = filepath.split('/')[-1]\n",
    "\n",
    "            img = cv2.imread(filepath)\n",
    "            faces=face_cascade.detectMultiScale(img, 1.1, 4)\n",
    "\n",
    "            savepath = currentdst + '/' + filename\n",
    "            if faces == ():\n",
    "                no_face = Image.open(filepath)\n",
    "                no_face.save(savepath)\n",
    "                count += 1\n",
    "                \n",
    "            for x, y, w, h in faces:\n",
    "                face = img[y:y+h, x:x+w]\n",
    "                cv2.imwrite(savepath, face)\n",
    "                x=cv2.rectangle(img,(x,y),(x+w,y+h),(0,255,0),3)\n",
    "    return 'Could not detect: ' + str(count) + ' faces'"
   ]
  },
  {
   "cell_type": "markdown",
   "id": "592af6f5",
   "metadata": {},
   "source": [
    "Dlib facedetection\n"
   ]
  },
  {
   "cell_type": "code",
   "execution_count": 20,
   "id": "e240555d",
   "metadata": {},
   "outputs": [],
   "source": [
    "def dlib_facedetection(srcpath, dstpath):\n",
    "    for src, dst in zip(srcpath, dstpath):\n",
    "            currentsrc = src\n",
    "            currentdst = dst\n",
    "            for filepath in glob.iglob(currentsrc + '/*.jpg'):\n",
    "                filepath = filepath.replace('\\\\','/')\n",
    "                filename = filepath.split('/')[-1]\n",
    "                img = DeepFace.detectFace(filepath, detector_backend= 'dlib', enforce_detection=False)\n",
    "                detected_face = img * 255\n",
    "                savepath = currentdst + '/' + filename\n",
    "                cv2.imwrite(savepath, detected_face[:, :, ::-1])"
   ]
  }
 ],
 "metadata": {
  "interpreter": {
   "hash": "be9a425e815a9bb61ca1e789a1b9d651a08a3186b1e4a393b148ea985015b445"
  },
  "kernelspec": {
   "display_name": "Python 3.7.6 ('base')",
   "language": "python",
   "name": "python3"
  },
  "language_info": {
   "codemirror_mode": {
    "name": "ipython",
    "version": 3
   },
   "file_extension": ".py",
   "mimetype": "text/x-python",
   "name": "python",
   "nbconvert_exporter": "python",
   "pygments_lexer": "ipython3",
   "version": "3.7.6"
  }
 },
 "nbformat": 4,
 "nbformat_minor": 5
}
